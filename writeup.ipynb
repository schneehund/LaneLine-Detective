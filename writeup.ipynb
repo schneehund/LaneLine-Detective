{
 "cells": [
  {
   "cell_type": "markdown",
   "metadata": {},
   "source": [
    "# **Finding Lane Lines on the Road** \n",
    "\n",
    "## Writeup \n",
    "\n",
    "\n",
    "---\n",
    "\n",
    "**Finding Lane Lines on the Road**\n",
    "\n",
    "The goals / steps of this project are the following:\n",
    "* Make a pipeline that finds lane lines on the road\n",
    "* Reflect on your work in a written report\n",
    "\n",
    "\n",
    "[//]: # (Image References)\n",
    "\n",
    "[image1]: ./examples/grayscale.jpg \"Grayscale\"\n",
    "\n",
    "---\n",
    "\n",
    "### Reflection\n",
    "\n",
    "### 1. Describe your pipeline. As part of the description, explain how you modified the draw_lines() function.\n",
    "\n",
    "I created a function named pipeline that holds all necessary parameters and call the helper- functions in the right order. \n",
    "\n",
    "In order to draw a single line on the left and right lanes, I modified the draw_lines() function.\n",
    "First with an if structure that filters the points of the left and the right line via the computed slope of the lines.\n",
    "Then it add the points into seperate lists.\n",
    "After that i read the min and max Values and map them to the cv2.line function whitch add the lines to the target Image.\n",
    "\n",
    "\n",
    "![alt text][/examples/gray.png]\n",
    "![alt text][/examples/blur.png]\n",
    "![alt text][/examples/canny.png]\n",
    "![alt text][/examples/complete.png]\n",
    "\n",
    "\n",
    "### 2. Identify potential shortcomings with your current pipeline\n",
    "\n",
    "\n",
    "One potential shortcoming would be what would happen when there are no Lines with the requested slope found. The routine will crash.\n",
    "\n",
    "Another shortcoming is when there is no solid Line it will Connect the max and min Values well but then there is no solid Line Drawn to the bottom of the Image.   \n",
    "\n",
    "\n",
    "### 3. Suggest possible improvements to your pipeline\n",
    "\n",
    "A possible improvement would be to scale the drawed lines up to the bottom and/or to a defined limit(the top border of the masked area for example.\n",
    "\n",
    "When driving into a Curve the Lines will not drawn correctly because only the outer Points will be evaluated.\n"
   ]
  },
  {
   "cell_type": "code",
   "execution_count": null,
   "metadata": {
    "collapsed": true
   },
   "outputs": [],
   "source": []
  }
 ],
 "metadata": {
  "kernelspec": {
   "display_name": "Python 3",
   "language": "python",
   "name": "python3"
  },
  "language_info": {
   "codemirror_mode": {
    "name": "ipython",
    "version": 3
   },
   "file_extension": ".py",
   "mimetype": "text/x-python",
   "name": "python",
   "nbconvert_exporter": "python",
   "pygments_lexer": "ipython3",
   "version": "3.5.2"
  },
  "widgets": {
   "state": {},
   "version": "1.1.2"
  }
 },
 "nbformat": 4,
 "nbformat_minor": 2
}
